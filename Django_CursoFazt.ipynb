{
  "nbformat": 4,
  "nbformat_minor": 0,
  "metadata": {
    "colab": {
      "provenance": [],
      "authorship_tag": "ABX9TyOoY97uv+581VmV+6qmvK/C",
      "include_colab_link": true
    },
    "kernelspec": {
      "name": "python3",
      "display_name": "Python 3"
    },
    "language_info": {
      "name": "python"
    }
  },
  "cells": [
    {
      "cell_type": "markdown",
      "metadata": {
        "id": "view-in-github",
        "colab_type": "text"
      },
      "source": [
        "<a href=\"https://colab.research.google.com/github/raulandresramirezmunoz/Django_Fazt_1/blob/main/Django_CursoFazt.ipynb\" target=\"_parent\"><img src=\"https://colab.research.google.com/assets/colab-badge.svg\" alt=\"Open In Colab\"/></a>"
      ]
    },
    {
      "cell_type": "code",
      "execution_count": null,
      "metadata": {
        "id": "-rM0tn0EBmgU"
      },
      "outputs": [],
      "source": [
        "!pip install django"
      ]
    },
    {
      "cell_type": "code",
      "source": [
        "!django-admin startproject proyecto1"
      ],
      "metadata": {
        "id": "orKp7gR1B31X"
      },
      "execution_count": null,
      "outputs": []
    },
    {
      "cell_type": "code",
      "source": [
        "%cd proyecto1\n",
        "# ALLOWED_HOSTS = ['colab.research.google.com']"
      ],
      "metadata": {
        "id": "UsRM92JYB-gD"
      },
      "execution_count": null,
      "outputs": []
    },
    {
      "cell_type": "code",
      "source": [
        "from google.colab.output import eval_js\n",
        "print(eval_js(\"google.colab.kernel.proxyPort(8000)\"))"
      ],
      "metadata": {
        "colab": {
          "base_uri": "https://localhost:8080/",
          "height": 34
        },
        "id": "tF6J5OoJCBzF",
        "outputId": "70eff5e0-aef1-4e2f-90ae-1b88529de966"
      },
      "execution_count": null,
      "outputs": [
        {
          "output_type": "stream",
          "name": "stdout",
          "text": [
            "https://ccxava65ct6-496ff2e9c6d22116-8000-colab.googleusercontent.com/\n"
          ]
        }
      ]
    },
    {
      "cell_type": "code",
      "source": [
        "!python manage.py startapp myapp"
      ],
      "metadata": {
        "id": "R2tZIJbGCJsE"
      },
      "execution_count": null,
      "outputs": []
    },
    {
      "cell_type": "code",
      "source": [
        "# !pip install jupyter-server-proxy\n",
        "!python manage.py migrate"
      ],
      "metadata": {
        "id": "irTAH-heb7Hn"
      },
      "execution_count": null,
      "outputs": []
    },
    {
      "cell_type": "code",
      "source": [
        "import sqlite3\n",
        "# Conectarse a la base de datos\n",
        "conn = sqlite3.connect('/content/proyecto1/db.sqlite3')\n",
        "# Crear un cursor\n",
        "cursor = conn.cursor()\n",
        "# Ejecutar una consulta\n",
        "cursor.execute(\"SELECT * FROM django_session\")\n",
        "# Obtener los resultados\n",
        "results = cursor.fetchall()\n",
        "# Imprimir los resultados\n",
        "for row in results:\n",
        "    print(row)\n",
        "for row in results:\n",
        "    for col in row:\n",
        "        print(col,end=' ')\n",
        "    print()\n",
        "# Cerrar la conexión\n",
        "conn.close()"
      ],
      "metadata": {
        "id": "vPdhi1cBcJnD"
      },
      "execution_count": null,
      "outputs": []
    },
    {
      "cell_type": "code",
      "source": [
        "!python manage.py runserver 8000"
      ],
      "metadata": {
        "id": "Ilg7H-0GCFFc"
      },
      "execution_count": null,
      "outputs": []
    }
  ]
}